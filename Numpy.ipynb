{
  "nbformat": 4,
  "nbformat_minor": 0,
  "metadata": {
    "colab": {
      "provenance": [],
      "gpuType": "V28",
      "authorship_tag": "ABX9TyMrIFk7/Mlh4g6V2sANLSgs",
      "include_colab_link": true
    },
    "kernelspec": {
      "name": "python3",
      "display_name": "Python 3"
    },
    "language_info": {
      "name": "python"
    },
    "accelerator": "TPU"
  },
  "cells": [
    {
      "cell_type": "markdown",
      "metadata": {
        "id": "view-in-github",
        "colab_type": "text"
      },
      "source": [
        "<a href=\"https://colab.research.google.com/github/MohitBhatt7/Numpy/blob/main/Numpy.ipynb\" target=\"_parent\"><img src=\"https://colab.research.google.com/assets/colab-badge.svg\" alt=\"Open In Colab\"/></a>"
      ]
    },
    {
      "cell_type": "markdown",
      "source": [
        "# Numpy:- Numerical python\n",
        "#Advantages:- (1) Allows several mathematical operations.\n",
        "#             (2) Faster Operations"
      ],
      "metadata": {
        "id": "lSr6solI0mhb"
      }
    },
    {
      "cell_type": "code",
      "execution_count": null,
      "metadata": {
        "id": "8eKdrqvP_KJN"
      },
      "outputs": [],
      "source": [
        "import numpy as np"
      ]
    },
    {
      "cell_type": "markdown",
      "source": [
        "# Lists vs Numpy- Time Taken."
      ],
      "metadata": {
        "id": "sJW2nByE1s07"
      }
    },
    {
      "cell_type": "code",
      "source": [
        "from time import process_time"
      ],
      "metadata": {
        "id": "4GFAW8_V1sFr"
      },
      "execution_count": null,
      "outputs": []
    },
    {
      "cell_type": "markdown",
      "source": [
        "  # Time taken by a python list."
      ],
      "metadata": {
        "id": "NAtp-s8P2GVH"
      }
    },
    {
      "cell_type": "code",
      "source": [
        "python_list = [i for i in range(10000)]\n",
        "\n",
        "start_time = process_time()\n",
        "\n",
        "python_list = [i+5 for i in python_list]\n",
        "\n",
        "end_time = process_time()\n",
        "\n",
        "print(end_time - start_time)"
      ],
      "metadata": {
        "colab": {
          "base_uri": "https://localhost:8080/"
        },
        "id": "HJ7KsDVS10cO",
        "outputId": "7122bf99-7f2e-4a2a-844e-2f2f95b88d69"
      },
      "execution_count": null,
      "outputs": [
        {
          "output_type": "stream",
          "name": "stdout",
          "text": [
            "0.00041327899999998863\n"
          ]
        }
      ]
    },
    {
      "cell_type": "markdown",
      "source": [
        "# Time taken by numpy arrays:-"
      ],
      "metadata": {
        "id": "Q1ms3vwP5pJ5"
      }
    },
    {
      "cell_type": "code",
      "source": [
        "import numpy as np\n",
        "np_array = np.array([i for i in range(10000)])\n",
        "start_Time = process_time()\n",
        "np_array += 5\n",
        "end_Time = process_time()\n",
        "\n",
        "print(end_Time - start_Time)"
      ],
      "metadata": {
        "colab": {
          "base_uri": "https://localhost:8080/"
        },
        "id": "B5wYdUul3ETE",
        "outputId": "88d06727-cdb7-47ec-c992-d3c668dbc158"
      },
      "execution_count": null,
      "outputs": [
        {
          "output_type": "stream",
          "name": "stdout",
          "text": [
            "0.00036662399999976003\n"
          ]
        }
      ]
    },
    {
      "cell_type": "markdown",
      "source": [
        "# Numpy Arrays."
      ],
      "metadata": {
        "id": "TcYQPiEg-3kb"
      }
    },
    {
      "cell_type": "code",
      "source": [
        "# List\n",
        "List1 = [1,2,3,4,5]\n",
        "print(List1)\n",
        "type(List1)"
      ],
      "metadata": {
        "colab": {
          "base_uri": "https://localhost:8080/"
        },
        "id": "vYMsdl_WKEuw",
        "outputId": "e6cfd784-1008-468f-c532-782964436956"
      },
      "execution_count": 1,
      "outputs": [
        {
          "output_type": "stream",
          "name": "stdout",
          "text": [
            "[1, 2, 3, 4, 5]\n"
          ]
        },
        {
          "output_type": "execute_result",
          "data": {
            "text/plain": [
              "list"
            ]
          },
          "metadata": {},
          "execution_count": 1
        }
      ]
    },
    {
      "cell_type": "code",
      "source": [
        "import numpy as np\n",
        "numpyArr = np.array([1,2,3,4,5])\n",
        "print(numpyArr)\n",
        "print(type(numpyArr))"
      ],
      "metadata": {
        "colab": {
          "base_uri": "https://localhost:8080/"
        },
        "id": "fHULk6_kKSwL",
        "outputId": "d4960d1e-e293-4d92-f856-0493cf9435fa"
      },
      "execution_count": 2,
      "outputs": [
        {
          "output_type": "stream",
          "name": "stdout",
          "text": [
            "[1 2 3 4 5]\n",
            "<class 'numpy.ndarray'>\n"
          ]
        }
      ]
    },
    {
      "cell_type": "code",
      "source": [],
      "metadata": {
        "id": "gTARu_gOKcQh"
      },
      "execution_count": null,
      "outputs": []
    }
  ]
}